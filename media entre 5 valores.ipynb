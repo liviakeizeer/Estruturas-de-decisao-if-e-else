{
  "nbformat": 4,
  "nbformat_minor": 0,
  "metadata": {
    "colab": {
      "provenance": []
    },
    "kernelspec": {
      "name": "python3",
      "display_name": "Python 3"
    },
    "language_info": {
      "name": "python"
    }
  },
  "cells": [
    {
      "cell_type": "code",
      "execution_count": null,
      "metadata": {
        "id": "rkXG2y_K60c7"
      },
      "outputs": [],
      "source": [
        "#Faça um programa que leia 5 números e informe a soma e a média dos números.\n",
        "for contador in range(5):\n",
        " numero=float(input(\"digite numero:\"))\n",
        " numero_maior=0\n",
        " numero_maior==numero\n",
        "if numero > numero_maior:\n",
        "  print(\"numero maior\")\n",
        "else:\n",
        "  print(\"erro\")\n"
      ]
    }
  ]
}